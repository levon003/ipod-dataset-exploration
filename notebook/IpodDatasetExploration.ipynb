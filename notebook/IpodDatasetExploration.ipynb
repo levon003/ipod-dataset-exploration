{
 "cells": [
  {
   "cell_type": "markdown",
   "metadata": {},
   "source": [
    "IPOD Dataset Exploration\n",
    "===\n",
    "\n",
    "Exploring the IPOD dataset."
   ]
  },
  {
   "cell_type": "code",
   "execution_count": 1,
   "metadata": {
    "collapsed": true
   },
   "outputs": [],
   "source": [
    "import pandas as pd\n",
    "import numpy as np\n",
    "import matplotlib.pyplot as plt\n",
    "import matplotlib"
   ]
  },
  {
   "cell_type": "code",
   "execution_count": 3,
   "metadata": {
    "collapsed": true
   },
   "outputs": [],
   "source": [
    "from pathlib import Path\n",
    "from collections import Counter\n",
    "from tqdm import tqdm\n",
    "from IPython.core.display import display, HTML"
   ]
  },
  {
   "cell_type": "code",
   "execution_count": 4,
   "metadata": {},
   "outputs": [
    {
     "data": {
      "text/plain": [
       "PosixPath('/home/levoniaz/repos/ipod-dataset-exploration')"
      ]
     },
     "execution_count": 4,
     "metadata": {},
     "output_type": "execute_result"
    }
   ],
   "source": [
    "# data is stored relative to the root of the git repository\n",
    "git_root_dir = !git rev-parse --show-toplevel\n",
    "git_root_dir = Path(git_root_dir[0].strip())\n",
    "git_root_dir"
   ]
  },
  {
   "cell_type": "code",
   "execution_count": 7,
   "metadata": {
    "collapsed": true
   },
   "outputs": [],
   "source": [
    "data_dir = git_root_dir / 'data'\n",
    "assert data_dir.exists()\n",
    "ner_data_filepath = data_dir / \"NER_corpus_Collated_Positions_All_18June2020.csv\"\n",
    "gazetteer_filepath = data_dir / \"gazetteer.csv\"\n",
    "assert ner_data.exists() and gazetteer.exists()"
   ]
  },
  {
   "cell_type": "markdown",
   "metadata": {},
   "source": [
    "### Load the gazetteer"
   ]
  },
  {
   "cell_type": "code",
   "execution_count": 8,
   "metadata": {},
   "outputs": [
    {
     "data": {
      "text/plain": [
       "1500"
      ]
     },
     "execution_count": 8,
     "metadata": {},
     "output_type": "execute_result"
    }
   ],
   "source": [
    "gazetteer = pd.read_csv(gazetteer_filepath)\n",
    "len(gazetteer)"
   ]
  },
  {
   "cell_type": "code",
   "execution_count": 9,
   "metadata": {},
   "outputs": [
    {
     "data": {
      "text/html": [
       "<div>\n",
       "<style scoped>\n",
       "    .dataframe tbody tr th:only-of-type {\n",
       "        vertical-align: middle;\n",
       "    }\n",
       "\n",
       "    .dataframe tbody tr th {\n",
       "        vertical-align: top;\n",
       "    }\n",
       "\n",
       "    .dataframe thead th {\n",
       "        text-align: right;\n",
       "    }\n",
       "</style>\n",
       "<table border=\"1\" class=\"dataframe\">\n",
       "  <thead>\n",
       "    <tr style=\"text-align: right;\">\n",
       "      <th></th>\n",
       "      <th>Title</th>\n",
       "      <th>A1</th>\n",
       "      <th>A2</th>\n",
       "      <th>A3</th>\n",
       "    </tr>\n",
       "  </thead>\n",
       "  <tbody>\n",
       "    <tr>\n",
       "      <th>141</th>\n",
       "      <td>procurement</td>\n",
       "      <td>FUN</td>\n",
       "      <td>FUN</td>\n",
       "      <td>FUN</td>\n",
       "    </tr>\n",
       "    <tr>\n",
       "      <th>901</th>\n",
       "      <td>seo</td>\n",
       "      <td>O</td>\n",
       "      <td>O</td>\n",
       "      <td>O</td>\n",
       "    </tr>\n",
       "    <tr>\n",
       "      <th>1312</th>\n",
       "      <td>panel</td>\n",
       "      <td>FUN</td>\n",
       "      <td>FUN</td>\n",
       "      <td>O</td>\n",
       "    </tr>\n",
       "    <tr>\n",
       "      <th>740</th>\n",
       "      <td>examiner</td>\n",
       "      <td>RES</td>\n",
       "      <td>RES</td>\n",
       "      <td>O</td>\n",
       "    </tr>\n",
       "    <tr>\n",
       "      <th>626</th>\n",
       "      <td>adviser</td>\n",
       "      <td>RES</td>\n",
       "      <td>RES</td>\n",
       "      <td>RES</td>\n",
       "    </tr>\n",
       "    <tr>\n",
       "      <th>1185</th>\n",
       "      <td>salesperson</td>\n",
       "      <td>RES</td>\n",
       "      <td>RES</td>\n",
       "      <td>RES</td>\n",
       "    </tr>\n",
       "    <tr>\n",
       "      <th>1199</th>\n",
       "      <td>esl</td>\n",
       "      <td>O</td>\n",
       "      <td>O</td>\n",
       "      <td>O</td>\n",
       "    </tr>\n",
       "    <tr>\n",
       "      <th>256</th>\n",
       "      <td>broker</td>\n",
       "      <td>RES</td>\n",
       "      <td>RES</td>\n",
       "      <td>RES</td>\n",
       "    </tr>\n",
       "    <tr>\n",
       "      <th>1127</th>\n",
       "      <td>columnist</td>\n",
       "      <td>RES</td>\n",
       "      <td>RES</td>\n",
       "      <td>O</td>\n",
       "    </tr>\n",
       "    <tr>\n",
       "      <th>1496</th>\n",
       "      <td>agm</td>\n",
       "      <td>O</td>\n",
       "      <td>O</td>\n",
       "      <td>O</td>\n",
       "    </tr>\n",
       "  </tbody>\n",
       "</table>\n",
       "</div>"
      ],
      "text/plain": [
       "            Title   A1   A2   A3\n",
       "141   procurement  FUN  FUN  FUN\n",
       "901           seo    O    O    O\n",
       "1312        panel  FUN  FUN    O\n",
       "740      examiner  RES  RES    O\n",
       "626       adviser  RES  RES  RES\n",
       "1185  salesperson  RES  RES  RES\n",
       "1199          esl    O    O    O\n",
       "256        broker  RES  RES  RES\n",
       "1127    columnist  RES  RES    O\n",
       "1496          agm    O    O    O"
      ]
     },
     "execution_count": 9,
     "metadata": {},
     "output_type": "execute_result"
    }
   ],
   "source": [
    "gazetteer.sample(n=10)"
   ]
  },
  {
   "cell_type": "code",
   "execution_count": 14,
   "metadata": {
    "scrolled": false
   },
   "outputs": [
    {
     "name": "stdout",
     "output_type": "stream",
     "text": [
      "         FUN FUN FUN  584\n",
      "               O O O  290\n",
      "         RES RES RES  261\n",
      "           FUN FUN O  166\n",
      "           RES RES O   58\n",
      "         LOC LOC LOC   34\n",
      "             O O nan   34\n",
      "         FUN FUN RES   10\n",
      "             FUN O O    8\n",
      "         RES FUN FUN    7\n",
      "         RES RES FUN    6\n",
      "             O O RES    6\n",
      "             O O FUN    6\n",
      "         FUN RES RES    5\n",
      "         RES LOC LOC    4\n",
      "             RES O O    4\n",
      "           O FUN FUN    4\n",
      "           LOC LOC O    3\n",
      "           O RES RES    2\n",
      "         LOC RES RES    2\n",
      "         RES RES LOC    1\n",
      "         LOC LOC FUN    1\n",
      "             LOC O O    1\n",
      "           O LOC LOC    1\n",
      "         FUN FUN LOC    1\n",
      "           FUN O FUN    1\n"
     ]
    }
   ],
   "source": [
    "for annotations, count in Counter([f\"{row.A1} {row.A2} {row.A3}\" for row in gazetteer.itertuples()]).most_common():\n",
    "    print(f\"{annotations:>20} {count:>4}\")"
   ]
  },
  {
   "cell_type": "markdown",
   "metadata": {},
   "source": [
    "### Load the NER data"
   ]
  },
  {
   "cell_type": "code",
   "execution_count": 15,
   "metadata": {},
   "outputs": [
    {
     "data": {
      "text/plain": [
       "475073"
      ]
     },
     "execution_count": 15,
     "metadata": {},
     "output_type": "execute_result"
    }
   ],
   "source": [
    "df = pd.read_csv(ner_data_filepath)\n",
    "len(df)"
   ]
  },
  {
   "cell_type": "code",
   "execution_count": 16,
   "metadata": {},
   "outputs": [
    {
     "data": {
      "text/html": [
       "<div>\n",
       "<style scoped>\n",
       "    .dataframe tbody tr th:only-of-type {\n",
       "        vertical-align: middle;\n",
       "    }\n",
       "\n",
       "    .dataframe tbody tr th {\n",
       "        vertical-align: top;\n",
       "    }\n",
       "\n",
       "    .dataframe thead th {\n",
       "        text-align: right;\n",
       "    }\n",
       "</style>\n",
       "<table border=\"1\" class=\"dataframe\">\n",
       "  <thead>\n",
       "    <tr style=\"text-align: right;\">\n",
       "      <th></th>\n",
       "      <th>Original_Title</th>\n",
       "      <th>Processed_Title</th>\n",
       "      <th>Tag_A1</th>\n",
       "      <th>BIOES_Tag_A1</th>\n",
       "      <th>Tag_A2</th>\n",
       "      <th>BIOES_Tag_A2</th>\n",
       "      <th>Tag_A3</th>\n",
       "      <th>BIOES_Tag_A3</th>\n",
       "    </tr>\n",
       "  </thead>\n",
       "  <tbody>\n",
       "    <tr>\n",
       "      <th>0</th>\n",
       "      <td>Senior Manager</td>\n",
       "      <td>senior manager</td>\n",
       "      <td>RES RES</td>\n",
       "      <td>B-RES E-RES</td>\n",
       "      <td>RES RES</td>\n",
       "      <td>B-RES E-RES</td>\n",
       "      <td>RES RES</td>\n",
       "      <td>B-RES E-RES</td>\n",
       "    </tr>\n",
       "    <tr>\n",
       "      <th>1</th>\n",
       "      <td>Financial Controller</td>\n",
       "      <td>financial controller</td>\n",
       "      <td>FUN RES</td>\n",
       "      <td>S-FUN S-RES</td>\n",
       "      <td>FUN RES</td>\n",
       "      <td>S-FUN S-RES</td>\n",
       "      <td>FUN RES</td>\n",
       "      <td>S-FUN S-RES</td>\n",
       "    </tr>\n",
       "    <tr>\n",
       "      <th>2</th>\n",
       "      <td>Acting Financial Controller</td>\n",
       "      <td>acting financial controller</td>\n",
       "      <td>RES FUN RES</td>\n",
       "      <td>S-RES S-FUN S-RES</td>\n",
       "      <td>RES FUN RES</td>\n",
       "      <td>S-RES S-FUN S-RES</td>\n",
       "      <td>RES FUN RES</td>\n",
       "      <td>S-RES S-FUN S-RES</td>\n",
       "    </tr>\n",
       "    <tr>\n",
       "      <th>3</th>\n",
       "      <td>Assistant Manager</td>\n",
       "      <td>assistant manager</td>\n",
       "      <td>RES RES</td>\n",
       "      <td>B-RES E-RES</td>\n",
       "      <td>RES RES</td>\n",
       "      <td>B-RES E-RES</td>\n",
       "      <td>RES RES</td>\n",
       "      <td>B-RES E-RES</td>\n",
       "    </tr>\n",
       "    <tr>\n",
       "      <th>4</th>\n",
       "      <td>Audit Senior</td>\n",
       "      <td>audit senior</td>\n",
       "      <td>FUN RES</td>\n",
       "      <td>S-FUN S-RES</td>\n",
       "      <td>FUN RES</td>\n",
       "      <td>S-FUN S-RES</td>\n",
       "      <td>FUN RES</td>\n",
       "      <td>S-FUN S-RES</td>\n",
       "    </tr>\n",
       "  </tbody>\n",
       "</table>\n",
       "</div>"
      ],
      "text/plain": [
       "                Original_Title              Processed_Title       Tag_A1  \\\n",
       "0               Senior Manager               senior manager      RES RES   \n",
       "1         Financial Controller         financial controller      FUN RES   \n",
       "2  Acting Financial Controller  acting financial controller  RES FUN RES   \n",
       "3            Assistant Manager            assistant manager      RES RES   \n",
       "4                 Audit Senior                 audit senior      FUN RES   \n",
       "\n",
       "        BIOES_Tag_A1       Tag_A2       BIOES_Tag_A2       Tag_A3  \\\n",
       "0        B-RES E-RES      RES RES        B-RES E-RES      RES RES   \n",
       "1        S-FUN S-RES      FUN RES        S-FUN S-RES      FUN RES   \n",
       "2  S-RES S-FUN S-RES  RES FUN RES  S-RES S-FUN S-RES  RES FUN RES   \n",
       "3        B-RES E-RES      RES RES        B-RES E-RES      RES RES   \n",
       "4        S-FUN S-RES      FUN RES        S-FUN S-RES      FUN RES   \n",
       "\n",
       "        BIOES_Tag_A3  \n",
       "0        B-RES E-RES  \n",
       "1        S-FUN S-RES  \n",
       "2  S-RES S-FUN S-RES  \n",
       "3        B-RES E-RES  \n",
       "4        S-FUN S-RES  "
      ]
     },
     "execution_count": 16,
     "metadata": {},
     "output_type": "execute_result"
    }
   ],
   "source": [
    "df.head()"
   ]
  },
  {
   "cell_type": "code",
   "execution_count": 19,
   "metadata": {},
   "outputs": [
    {
     "data": {
      "text/plain": [
       "[('Director', 3516),\n",
       " ('Project Manager', 3049),\n",
       " ('Intern', 2918),\n",
       " ('Manager', 2458),\n",
       " ('Managing Director', 2220),\n",
       " ('Software Engineer', 2143),\n",
       " ('General Manager', 1991),\n",
       " ('Consultant', 1974),\n",
       " ('Assistant Manager', 1740),\n",
       " ('Business Development Manager', 1535),\n",
       " ('Account Manager', 1484),\n",
       " ('Associate', 1484),\n",
       " ('Sales Manager', 1475),\n",
       " ('Project Engineer', 1422),\n",
       " ('Finance Manager', 1405),\n",
       " ('CEO', 1318),\n",
       " ('Accountant', 1302),\n",
       " ('Vice President', 1272),\n",
       " ('Owner', 1253),\n",
       " ('Senior Software Engineer', 1190)]"
      ]
     },
     "execution_count": 19,
     "metadata": {},
     "output_type": "execute_result"
    }
   ],
   "source": [
    "Counter(df.Original_Title).most_common(20)"
   ]
  },
  {
   "cell_type": "code",
   "execution_count": 20,
   "metadata": {},
   "outputs": [
    {
     "data": {
      "text/plain": [
       "[('director', 3597),\n",
       " ('project manager', 3119),\n",
       " ('intern', 2940),\n",
       " ('manager', 2558),\n",
       " ('managing director', 2250),\n",
       " ('software engineer', 2192),\n",
       " ('general manager', 2037),\n",
       " ('consultant', 2011),\n",
       " ('assistant manager', 1764),\n",
       " ('sales manager', 1571),\n",
       " ('business development manager', 1554),\n",
       " ('account manager', 1509),\n",
       " ('associate', 1489),\n",
       " ('project engineer', 1457),\n",
       " ('finance manager', 1428),\n",
       " ('ceo', 1332),\n",
       " ('accountant', 1320),\n",
       " ('vice president', 1291),\n",
       " ('owner', 1286),\n",
       " ('senior manager', 1209)]"
      ]
     },
     "execution_count": 20,
     "metadata": {},
     "output_type": "execute_result"
    }
   ],
   "source": [
    "Counter(df.Processed_Title).most_common(20)"
   ]
  },
  {
   "cell_type": "code",
   "execution_count": 28,
   "metadata": {},
   "outputs": [
    {
     "data": {
      "image/png": "[encoded data removed]",
      "text/plain": [
       "<matplotlib.figure.Figure at 0x7f90bfb92860>"
      ]
     },
     "metadata": {},
     "output_type": "display_data"
    }
   ],
   "source": [
    "plt.hist(list(Counter(df.Processed_Title).values()), bins=50, log=True)\n",
    "plt.xlabel(\"Occurence count of each processed title\")\n",
    "plt.ylabel(\"Processed title count (log scale)\")\n",
    "plt.title(\"Distribution of processed title occurrence counts\")\n",
    "plt.show()"
   ]
  },
  {
   "cell_type": "markdown",
   "metadata": {},
   "source": [
    "### Examine the tag patterns"
   ]
  },
  {
   "cell_type": "code",
   "execution_count": 32,
   "metadata": {},
   "outputs": [
    {
     "data": {
      "text/plain": [
       "['RES', 'RES']"
      ]
     },
     "execution_count": 32,
     "metadata": {},
     "output_type": "execute_result"
    }
   ],
   "source": [
    "# just using the first annotator's tags....\n",
    "tags = [row.Tag_A1.split() for row in df.itertuples()]\n",
    "tags[0]"
   ]
  },
  {
   "cell_type": "code",
   "execution_count": 36,
   "metadata": {},
   "outputs": [
    {
     "data": {
      "image/png": "[encoded data removed]",
      "text/plain": [
       "<matplotlib.figure.Figure at 0x7f90ace7d828>"
      ]
     },
     "metadata": {},
     "output_type": "display_data"
    }
   ],
   "source": [
    "plt.hist([len(tag) for tag in tags], log=True, bins=range(21))\n",
    "plt.xlabel(\"Job title word length\")\n",
    "plt.ylabel(\"Job title count (log scale)\")\n",
    "plt.title(\"Distribution of job title lengths\")\n",
    "plt.show()"
   ]
  },
  {
   "cell_type": "code",
   "execution_count": 38,
   "metadata": {},
   "outputs": [
    {
     "data": {
      "text/plain": [
       "[('O O O O O O O O O O O O', 9),\n",
       " ('O O O O O O O O O O O', 6),\n",
       " ('RES FUN RES O O O O O O O O', 4),\n",
       " ('RES O FUN O FUN FUN O O O O O', 4),\n",
       " ('RES O O O O O O O O O O O', 4),\n",
       " ('FUN O FUN FUN FUN O O O O O O O', 3),\n",
       " ('RES RES O O O LOC RES FUN O O O', 3),\n",
       " ('RES O O O O O O O O O O', 3),\n",
       " ('RES FUN RES O O O FUN O O O O', 3),\n",
       " ('FUN FUN RES LOC LOC LOC FUN FUN FUN FUN O FUN', 3)]"
      ]
     },
     "execution_count": 38,
     "metadata": {},
     "output_type": "execute_result"
    }
   ],
   "source": [
    "long_tags = [\" \".join(tag) for tag in tags if len(tag) > 10]\n",
    "Counter(long_tags).most_common(10)"
   ]
  },
  {
   "cell_type": "code",
   "execution_count": 40,
   "metadata": {},
   "outputs": [
    {
     "data": {
      "text/plain": [
       "[('FUN RES', 97069),\n",
       " ('RES', 38742),\n",
       " ('FUN FUN RES', 35579),\n",
       " ('RES RES', 35090),\n",
       " ('RES FUN RES', 33849),\n",
       " ('O RES', 13734),\n",
       " ('O FUN RES', 6989),\n",
       " ('FUN RES RES', 5865),\n",
       " ('RES RES RES', 5816),\n",
       " ('RES FUN FUN RES', 5787),\n",
       " ('O', 5657),\n",
       " ('FUN O FUN RES', 5367),\n",
       " ('RES FUN FUN', 4991),\n",
       " ('RES O RES', 4819),\n",
       " ('RES RES FUN FUN', 4256),\n",
       " ('RES RES FUN', 3650),\n",
       " ('FUN FUN', 3474),\n",
       " ('RES O FUN', 3421),\n",
       " ('FUN FUN FUN RES', 3373),\n",
       " ('RES FUN', 2927)]"
      ]
     },
     "execution_count": 40,
     "metadata": {},
     "output_type": "execute_result"
    }
   ],
   "source": [
    "# A1's tag counts\n",
    "Counter(df.Tag_A1).most_common(20)"
   ]
  },
  {
   "cell_type": "code",
   "execution_count": null,
   "metadata": {
    "collapsed": true
   },
   "outputs": [],
   "source": []
  }
 ],
 "metadata": {
  "kernelspec": {
   "display_name": "Python 3",
   "language": "python",
   "name": "python3"
  },
  "language_info": {
   "codemirror_mode": {
    "name": "ipython",
    "version": 3
   },
   "file_extension": ".py",
   "mimetype": "text/x-python",
   "name": "python",
   "nbconvert_exporter": "python",
   "pygments_lexer": "ipython3",
   "version": "3.6.1"
  }
 },
 "nbformat": 4,
 "nbformat_minor": 2
}
